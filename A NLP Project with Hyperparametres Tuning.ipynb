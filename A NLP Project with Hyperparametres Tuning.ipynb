{
 "cells": [
  {
   "cell_type": "markdown",
   "metadata": {},
   "source": [
    "## A NLP Project with Hyperparametres Tuning"
   ]
  },
  {
   "cell_type": "markdown",
   "metadata": {},
   "source": [
    "#### 1. The Main Code For the Project"
   ]
  },
  {
   "cell_type": "code",
   "execution_count": null,
   "metadata": {},
   "outputs": [],
   "source": [
    "import json\n",
    "import tensorflow as tf\n",
    "import numpy as np\n",
    "import urllib\n",
    "from tensorflow.keras.preprocessing.text import Tokenizer\n",
    "from tensorflow.keras.preprocessing.sequence import pad_sequences\n",
    "\n",
    "def solution_model():\n",
    "    url = 'http://storage.googleapis.com/download.tensorflow.org/data/sarcasm.json'\n",
    "    urllib.request.urlretrieve(url, 'sarcasm.json')\n",
    "\n",
    "    vocab_size = 1000\n",
    "    embedding_dim = 16\n",
    "    max_length = 120\n",
    "    trunc_type='post'\n",
    "    padding_type='post'\n",
    "    oov_tok = \"<OOV>\"\n",
    "    training_size = 20000\n",
    "\n",
    "    sentences = []\n",
    "    labels = []\n",
    "\n",
    "    with open(\"sarcasm.json\", 'r') as f:\n",
    "        datastore = json.load(f)\n",
    "\n",
    "    for item in datastore:\n",
    "        sentences.append(item['headline'])\n",
    "        labels.append(item['is_sarcastic'])\n",
    "\n",
    "    training_sentences = sentences[0:training_size]\n",
    "    training_labels = labels[0:training_size]\n",
    "    testing_sentences = sentences[training_size:]  # validation set\n",
    "    testing_labels = labels[training_size:]  # validation set\n",
    "\n",
    "    tokenizer = Tokenizer(num_words=vocab_size, oov_token=oov_tok)\n",
    "    tokenizer.fit_on_texts(training_sentences)\n",
    "\n",
    "    training_sequences = tokenizer.texts_to_sequences(training_sentences)\n",
    "    training_padded = pad_sequences(training_sequences, maxlen=max_length, padding=padding_type, truncating=trunc_type)\n",
    "    testing_sequences = tokenizer.texts_to_sequences(testing_sentences)  # validation set\n",
    "    testing_padded = pad_sequences(testing_sequences, maxlen=max_length, padding=padding_type,\n",
    "                                   truncating=trunc_type)  # validation set\n",
    "\n",
    "    training_padded = np.array(training_padded)\n",
    "    training_labels = np.array(training_labels)\n",
    "    testing_padded = np.array(testing_padded)  # validation set\n",
    "    testing_labels = np.array(testing_labels)  # validation set\n",
    "\n",
    "    model = tf.keras.Sequential([\n",
    "        tf.keras.layers.Embedding(vocab_size, embedding_dim, input_length=max_length),\n",
    "        \n",
    "        tf.keras.layers.Bidirectional(tf.keras.layers.LSTM(96, return_sequences=True)),\n",
    "        tf.keras.layers.Dropout(0.3),\n",
    "        tf.keras.layers.Bidirectional(tf.keras.layers.LSTM(32)),\n",
    "        tf.keras.layers.Dropout(0.2),\n",
    "        \n",
    "        tf.keras.layers.Dense(96, activation='relu'),\n",
    "        \n",
    "        tf.keras.layers.Dense(1, activation='sigmoid')\n",
    "    ])\n",
    "\n",
    "    model.compile(loss='binary_crossentropy', optimizer='adam', metrics=['accuracy'])\n",
    "\n",
    "    num_epochs = 15\n",
    "\n",
    "    model.fit(training_padded, training_labels, epochs=num_epochs, validation_data=(testing_padded, testing_labels), verbose=1)\n",
    "\n",
    "    return model"
   ]
  },
  {
   "cell_type": "code",
   "execution_count": null,
   "metadata": {},
   "outputs": [],
   "source": [
    "if __name__ == '__main__':\n",
    "    model = solution_model()\n",
    "    model.save(\"mymodel.h5\")"
   ]
  },
  {
   "cell_type": "code",
   "execution_count": null,
   "metadata": {},
   "outputs": [],
   "source": []
  },
  {
   "cell_type": "markdown",
   "metadata": {},
   "source": [
    "#### 2. Hyperparametres Tuning"
   ]
  },
  {
   "cell_type": "code",
   "execution_count": null,
   "metadata": {},
   "outputs": [],
   "source": [
    "import json\n",
    "import tensorflow as tf\n",
    "import numpy as np\n",
    "import urllib\n",
    "from tensorflow.keras.preprocessing.text import Tokenizer\n",
    "from tensorflow.keras.preprocessing.sequence import pad_sequences\n",
    "\n",
    "!pip install -q -U keras-tuner\n",
    "import kerastuner as kt\n",
    "import tensorflow as tf\n",
    "from tensorflow import keras\n",
    "import tensorflow_datasets as tfds\n",
    "import IPython"
   ]
  },
  {
   "cell_type": "code",
   "execution_count": null,
   "metadata": {},
   "outputs": [],
   "source": [
    "class ClearTrainingOutput(tf.keras.callbacks.Callback):\n",
    "  def on_train_end(*args, **kwargs):\n",
    "    IPython.display.clear_output(wait = True)"
   ]
  },
  {
   "cell_type": "code",
   "execution_count": null,
   "metadata": {},
   "outputs": [],
   "source": [
    "    url = 'http://storage.googleapis.com/download.tensorflow.org/data/sarcasm.json'\n",
    "    urllib.request.urlretrieve(url, 'sarcasm.json')\n",
    "\n",
    "    # DO NOT CHANGE THIS CODE OR THE TESTS MAY NOT WORK\n",
    "    vocab_size = 1000\n",
    "    embedding_dim = 16\n",
    "    max_length = 120\n",
    "    trunc_type='post'\n",
    "    padding_type='post'\n",
    "    oov_tok = \"<OOV>\"\n",
    "    training_size = 20000\n",
    "\n",
    "    sentences = []\n",
    "    labels = []\n",
    "    # YOUR CODE HERE\n",
    "    with open(\"sarcasm.json\", 'r') as f:\n",
    "        datastore = json.load(f)\n",
    "\n",
    "    for item in datastore:\n",
    "        sentences.append(item['headline'])\n",
    "        labels.append(item['is_sarcastic'])\n",
    "\n",
    "    training_sentences = sentences[0:training_size]\n",
    "    training_labels = labels[0:training_size]\n",
    "    testing_sentences = sentences[training_size:]  # validation set\n",
    "    testing_labels = labels[training_size:]  # validation set\n",
    "\n",
    "    tokenizer = Tokenizer(num_words=vocab_size, oov_token=oov_tok)\n",
    "    tokenizer.fit_on_texts(training_sentences)\n",
    "\n",
    "    training_sequences = tokenizer.texts_to_sequences(training_sentences)\n",
    "    training_padded = pad_sequences(training_sequences, maxlen=max_length, padding=padding_type, truncating=trunc_type)\n",
    "    testing_sequences = tokenizer.texts_to_sequences(testing_sentences)  # validation set\n",
    "    testing_padded = pad_sequences(testing_sequences, maxlen=max_length, padding=padding_type,\n",
    "                                   truncating=trunc_type)  # validation set\n",
    "\n",
    "    training_padded = np.array(training_padded)\n",
    "    training_labels = np.array(training_labels)\n",
    "    testing_padded = np.array(testing_padded)  # validation set\n",
    "    testing_labels = np.array(testing_labels)  # validation set"
   ]
  },
  {
   "cell_type": "code",
   "execution_count": null,
   "metadata": {},
   "outputs": [],
   "source": [
    "def model_builder(hp):\n",
    "  model = tf.keras.Sequential()\n",
    "\n",
    "  model.add(tf.keras.layers.Embedding(vocab_size, embedding_dim, input_length=max_length))\n",
    "\n",
    "  model.add(tf.keras.layers.Bidirectional(tf.keras.layers.LSTM(hp.Int('LSTM_1',\n",
    "                                        min_value=32,\n",
    "                                        max_value=128,\n",
    "                                        step=16), return_sequences=True)))\n",
    "  model.add(tf.keras.layers.Dropout(hp.Choice('Dropout_1', values = [0.2, 0.3, 0.5])))\n",
    "  model.add(tf.keras.layers.Bidirectional(tf.keras.layers.LSTM(hp.Int('LSTM_2',\n",
    "                                        min_value=32,\n",
    "                                        max_value=128,\n",
    "                                        step=16))))\n",
    "  model.add(tf.keras.layers.Dropout(hp.Choice('Dropout_2', values = [0.2, 0.3, 0.5])))\n",
    "\n",
    "  model.add(tf.keras.layers.Dense(hp.Int('Dense_1',\n",
    "                                        min_value=32,\n",
    "                                        max_value=256,\n",
    "                                        step=32), activation='relu'))\n",
    "  \n",
    "  model.add(tf.keras.layers.Dense(1, activation='sigmoid'))\n",
    "\n",
    "  #from tf.keras.optimizers import Adam\n",
    "  model.compile(loss='binary_crossentropy', optimizer=tf.keras.optimizers.Adam(learning_rate = hp.Choice('learning_rate', values = [1e-3, 1e-4, 1e-5, 1e-6])), metrics=['accuracy'])\n",
    "\n",
    "  return model"
   ]
  },
  {
   "cell_type": "code",
   "execution_count": null,
   "metadata": {},
   "outputs": [],
   "source": [
    "tuner = kt.Hyperband(model_builder,\n",
    "                     objective = 'val_accuracy', \n",
    "                     max_epochs = 15,\n",
    "                     factor = 3,\n",
    "                     directory = 'my_dir',\n",
    "                     project_name = 'intro_to_kt')"
   ]
  },
  {
   "cell_type": "code",
   "execution_count": null,
   "metadata": {},
   "outputs": [],
   "source": [
    "tuner.search_space_summary()"
   ]
  },
  {
   "cell_type": "code",
   "execution_count": null,
   "metadata": {},
   "outputs": [],
   "source": [
    "tuner.search(training_padded, training_labels, epochs = 15, validation_data = (testing_padded, testing_labels), callbacks = [ClearTrainingOutput()])"
   ]
  },
  {
   "cell_type": "code",
   "execution_count": null,
   "metadata": {},
   "outputs": [],
   "source": [
    "tuner.results_summary()"
   ]
  },
  {
   "cell_type": "code",
   "execution_count": null,
   "metadata": {},
   "outputs": [],
   "source": [
    "models = tuner.get_best_models(num_models=2)"
   ]
  },
  {
   "cell_type": "code",
   "execution_count": null,
   "metadata": {},
   "outputs": [],
   "source": [
    "models[0]"
   ]
  },
  {
   "cell_type": "code",
   "execution_count": null,
   "metadata": {},
   "outputs": [],
   "source": [
    "best_hps = tuner.get_best_hyperparameters(num_trials = 1)[0]\n",
    "print(best_hps)"
   ]
  },
  {
   "cell_type": "code",
   "execution_count": null,
   "metadata": {},
   "outputs": [],
   "source": [
    "model = tuner.hypermodel.build(best_hps)"
   ]
  },
  {
   "cell_type": "code",
   "execution_count": null,
   "metadata": {},
   "outputs": [],
   "source": [
    "model.fit(training_padded, training_labels, epochs = 20, validation_data = (testing_padded, testing_labels), callbacks = [ClearTrainingOutput()])"
   ]
  }
 ],
 "metadata": {
  "kernelspec": {
   "display_name": "Python 3",
   "language": "python",
   "name": "python3"
  },
  "language_info": {
   "codemirror_mode": {
    "name": "ipython",
    "version": 3
   },
   "file_extension": ".py",
   "mimetype": "text/x-python",
   "name": "python",
   "nbconvert_exporter": "python",
   "pygments_lexer": "ipython3",
   "version": "3.7.6"
  }
 },
 "nbformat": 4,
 "nbformat_minor": 4
}
